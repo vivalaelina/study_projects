{
 "cells": [
  {
   "cell_type": "code",
   "execution_count": 5,
   "id": "c4685f8e-8ddb-47bf-8f7b-d89bd56b8a1d",
   "metadata": {},
   "outputs": [],
   "source": [
    "import pandahouse\n",
    "import scipy.stats as sps\n",
    "import pandas as pd"
   ]
  },
  {
   "cell_type": "code",
   "execution_count": 2,
   "id": "9a5cabce-cb05-4c7a-acfc-585949c0d6bf",
   "metadata": {},
   "outputs": [],
   "source": [
    "connection = {\n",
    "    'host': 'https://clickhouse.lab.karpov.courses',\n",
    "    'password': 'dpo_python_2020',\n",
    "    'user': 'student',\n",
    "    'database': 'simulator'\n",
    "}\n",
    "\n",
    "q = '''SELECT exp_group, \n",
    "    user_id,\n",
    "    sum(action = 'like') as likes,\n",
    "    sum(action = 'view') as views,\n",
    "    likes/views as ctr\n",
    "    FROM simulator_20220620.feed_actions \n",
    "    WHERE toDate(time) between '2022-05-17' and '2022-05-23'\n",
    "    and exp_group in (2,3)\n",
    "    GROUP BY exp_group, user_id\n",
    "    '''\n",
    "\n",
    "df = pandahouse.read_clickhouse(q, connection=connection)"
   ]
  },
  {
   "cell_type": "code",
   "execution_count": 28,
   "id": "2fdea9fa-82de-4be1-a17b-3371dc353b20",
   "metadata": {},
   "outputs": [],
   "source": [
    "list = []\n",
    "for i in range(10000):\n",
    "  df1 = df[df.exp_group == 2].sample(500, replace=True)\n",
    "  df2 = df[df.exp_group == 3].sample(500, replace=True)\n",
    "  ttest = sps.ttest_ind(df1.ctr,df2.ctr, equal_var=False)\n",
    "  list.append(ttest[1])"
   ]
  },
  {
   "cell_type": "code",
   "execution_count": 29,
   "id": "0f1d57db-62f5-44bc-9084-28b5c044ac1c",
   "metadata": {},
   "outputs": [],
   "source": [
    "pvalues = pd.DataFrame({'pvalue':list})"
   ]
  },
  {
   "cell_type": "code",
   "execution_count": 30,
   "id": "8282ba48-b7db-41f7-9692-0826ca90a0c6",
   "metadata": {},
   "outputs": [
    {
     "data": {
      "text/plain": [
       "array([[<AxesSubplot:title={'center':'pvalue'}>]], dtype=object)"
      ]
     },
     "execution_count": 30,
     "metadata": {},
     "output_type": "execute_result"
    },
    {
     "data": {
      "image/png": "[encoded data removed]",
      "text/plain": [
       "<Figure size 432x288 with 1 Axes>"
      ]
     },
     "metadata": {
      "needs_background": "light"
     },
     "output_type": "display_data"
    }
   ],
   "source": [
    "pvalues.hist()"
   ]
  },
  {
   "cell_type": "code",
   "execution_count": 31,
   "id": "b43107ae-1a12-4ffb-9cff-b660b8683582",
   "metadata": {},
   "outputs": [
    {
     "data": {
      "text/html": [
       "<div>\n",
       "<style scoped>\n",
       "    .dataframe tbody tr th:only-of-type {\n",
       "        vertical-align: middle;\n",
       "    }\n",
       "\n",
       "    .dataframe tbody tr th {\n",
       "        vertical-align: top;\n",
       "    }\n",
       "\n",
       "    .dataframe thead th {\n",
       "        text-align: right;\n",
       "    }\n",
       "</style>\n",
       "<table border=\"1\" class=\"dataframe\">\n",
       "  <thead>\n",
       "    <tr style=\"text-align: right;\">\n",
       "      <th></th>\n",
       "      <th>pvalue</th>\n",
       "    </tr>\n",
       "  </thead>\n",
       "  <tbody>\n",
       "    <tr>\n",
       "      <th>count</th>\n",
       "      <td>10000.000000</td>\n",
       "    </tr>\n",
       "    <tr>\n",
       "      <th>mean</th>\n",
       "      <td>0.496810</td>\n",
       "    </tr>\n",
       "    <tr>\n",
       "      <th>std</th>\n",
       "      <td>0.289353</td>\n",
       "    </tr>\n",
       "    <tr>\n",
       "      <th>min</th>\n",
       "      <td>0.000084</td>\n",
       "    </tr>\n",
       "    <tr>\n",
       "      <th>25%</th>\n",
       "      <td>0.245112</td>\n",
       "    </tr>\n",
       "    <tr>\n",
       "      <th>50%</th>\n",
       "      <td>0.498032</td>\n",
       "    </tr>\n",
       "    <tr>\n",
       "      <th>75%</th>\n",
       "      <td>0.744466</td>\n",
       "    </tr>\n",
       "    <tr>\n",
       "      <th>max</th>\n",
       "      <td>0.999832</td>\n",
       "    </tr>\n",
       "  </tbody>\n",
       "</table>\n",
       "</div>"
      ],
      "text/plain": [
       "             pvalue\n",
       "count  10000.000000\n",
       "mean       0.496810\n",
       "std        0.289353\n",
       "min        0.000084\n",
       "25%        0.245112\n",
       "50%        0.498032\n",
       "75%        0.744466\n",
       "max        0.999832"
      ]
     },
     "execution_count": 31,
     "metadata": {},
     "output_type": "execute_result"
    }
   ],
   "source": [
    "pvalues.describe()"
   ]
  },
  {
   "cell_type": "code",
   "execution_count": 32,
   "id": "f8561ddd-946a-4bdf-891c-6a99de82d5bf",
   "metadata": {},
   "outputs": [
    {
     "data": {
      "text/plain": [
       "5.319999999999999"
      ]
     },
     "execution_count": 32,
     "metadata": {},
     "output_type": "execute_result"
    }
   ],
   "source": [
    "pvalues.query('pvalue<=0.05').size / pvalues.size * 100"
   ]
  },
  {
   "cell_type": "markdown",
   "id": "4afa6066-15c8-413c-946b-ed434fbebe77",
   "metadata": {
    "tags": []
   },
   "source": [
    "Вывод:\n",
    "В связи с тем, что 5.32% значений p value оказались меньше либо равными 0.05, у нас недостаточно оснований принять гипотезу о равенстве двух групп. Мы можем предположить, что наша система сплитования работает не совсем корректно.\n",
    "При этом есть вероятность, что тесту не хватило времени собрать достаточно данных для правильных выводов, так как он продолжался только одну неделю."
   ]
  }
 ],
 "metadata": {
  "kernelspec": {
   "display_name": "Python 3 (ipykernel)",
   "language": "python",
   "name": "python3"
  },
  "language_info": {
   "codemirror_mode": {
    "name": "ipython",
    "version": 3
   },
   "file_extension": ".py",
   "mimetype": "text/x-python",
   "name": "python",
   "nbconvert_exporter": "python",
   "pygments_lexer": "ipython3",
   "version": "3.8.10"
  }
 },
 "nbformat": 4,
 "nbformat_minor": 5
}
