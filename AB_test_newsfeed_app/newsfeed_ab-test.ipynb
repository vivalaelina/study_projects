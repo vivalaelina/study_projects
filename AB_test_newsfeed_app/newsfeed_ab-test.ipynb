{
 "cells": [
  {
   "cell_type": "code",
   "execution_count": 2,
   "id": "0f8c908b-afaa-4441-98b7-339cfdedcce0",
   "metadata": {},
   "outputs": [],
   "source": [
    "import pandas as pd\n",
    "import pandahouse \n",
    "import scipy.stats as sts\n",
    "import numpy as np\n",
    "import seaborn as sns"
   ]
  },
  {
   "cell_type": "code",
   "execution_count": 3,
   "id": "da48472d-a6e1-4713-b699-8e7ee966f100",
   "metadata": {
    "tags": []
   },
   "outputs": [],
   "source": [
    "connection = {\n",
    "    'host': 'courses',\n",
    "    'password': '1234',\n",
    "    'user': 'student',\n",
    "    'database': 'simulator'\n",
    "}\n",
    "\n",
    "q = '''SELECT exp_group, \n",
    "    user_id,\n",
    "    sum(action = 'like') as likes,\n",
    "    sum(action = 'view') as views,\n",
    "    likes/views as ctr\n",
    "    FROM simulator.feed_actions \n",
    "    WHERE toDate(time) between '2022-05-24' and '2022-05-30'\n",
    "    and exp_group in (1,2)\n",
    "    GROUP BY exp_group, user_id\n",
    "    '''\n",
    "\n",
    "df = pandahouse.read_clickhouse(q, connection=connection)"
   ]
  },
  {
   "cell_type": "code",
   "execution_count": 4,
   "id": "5268309a-a358-4aa9-be9b-39e2675d5690",
   "metadata": {
    "tags": []
   },
   "outputs": [
    {
     "data": {
      "text/html": [
       "<div>\n",
       "<style scoped>\n",
       "    .dataframe tbody tr th:only-of-type {\n",
       "        vertical-align: middle;\n",
       "    }\n",
       "\n",
       "    .dataframe tbody tr th {\n",
       "        vertical-align: top;\n",
       "    }\n",
       "\n",
       "    .dataframe thead th {\n",
       "        text-align: right;\n",
       "    }\n",
       "</style>\n",
       "<table border=\"1\" class=\"dataframe\">\n",
       "  <thead>\n",
       "    <tr style=\"text-align: right;\">\n",
       "      <th></th>\n",
       "      <th>exp_group</th>\n",
       "      <th>user_id</th>\n",
       "      <th>likes</th>\n",
       "      <th>views</th>\n",
       "      <th>ctr</th>\n",
       "    </tr>\n",
       "  </thead>\n",
       "  <tbody>\n",
       "    <tr>\n",
       "      <th>0</th>\n",
       "      <td>1</td>\n",
       "      <td>109963</td>\n",
       "      <td>3</td>\n",
       "      <td>15</td>\n",
       "      <td>0.200000</td>\n",
       "    </tr>\n",
       "    <tr>\n",
       "      <th>1</th>\n",
       "      <td>1</td>\n",
       "      <td>26117</td>\n",
       "      <td>32</td>\n",
       "      <td>141</td>\n",
       "      <td>0.226950</td>\n",
       "    </tr>\n",
       "    <tr>\n",
       "      <th>2</th>\n",
       "      <td>1</td>\n",
       "      <td>138232</td>\n",
       "      <td>18</td>\n",
       "      <td>73</td>\n",
       "      <td>0.246575</td>\n",
       "    </tr>\n",
       "    <tr>\n",
       "      <th>3</th>\n",
       "      <td>1</td>\n",
       "      <td>26295</td>\n",
       "      <td>33</td>\n",
       "      <td>122</td>\n",
       "      <td>0.270492</td>\n",
       "    </tr>\n",
       "    <tr>\n",
       "      <th>4</th>\n",
       "      <td>1</td>\n",
       "      <td>18392</td>\n",
       "      <td>7</td>\n",
       "      <td>32</td>\n",
       "      <td>0.218750</td>\n",
       "    </tr>\n",
       "  </tbody>\n",
       "</table>\n",
       "</div>"
      ],
      "text/plain": [
       "   exp_group  user_id  likes  views       ctr\n",
       "0          1   109963      3     15  0.200000\n",
       "1          1    26117     32    141  0.226950\n",
       "2          1   138232     18     73  0.246575\n",
       "3          1    26295     33    122  0.270492\n",
       "4          1    18392      7     32  0.218750"
      ]
     },
     "execution_count": 4,
     "metadata": {},
     "output_type": "execute_result"
    }
   ],
   "source": [
    "df.head(5)"
   ]
  },
  {
   "cell_type": "code",
   "execution_count": 4,
   "id": "029d08ca-24f9-4436-a830-f5edcd1896dd",
   "metadata": {},
   "outputs": [
    {
     "data": {
      "text/plain": [
       "<AxesSubplot:xlabel='ctr', ylabel='Count'>"
      ]
     },
     "execution_count": 4,
     "metadata": {},
     "output_type": "execute_result"
    },
    {
     "data": {
      "image/png": "[encoded data removed]",
      "text/plain": [
       "<Figure size 432x288 with 1 Axes>"
      ]
     },
     "metadata": {
      "needs_background": "light"
     },
     "output_type": "display_data"
    }
   ],
   "source": [
    "sns.histplot(data = df, x='ctr', hue='exp_group', palette = ['r', 'b'], alpha=0.5, kde=False)"
   ]
  },
  {
   "cell_type": "code",
   "execution_count": 5,
   "id": "4721f4aa-8385-48cc-b875-c5d1ef996afc",
   "metadata": {},
   "outputs": [
    {
     "data": {
      "text/plain": [
       "Ttest_indResult(statistic=0.7094392041270485, pvalue=0.4780623130874935)"
      ]
     },
     "execution_count": 5,
     "metadata": {},
     "output_type": "execute_result"
    }
   ],
   "source": [
    "#T-test\n",
    "sts.ttest_ind(df[df.exp_group == 1].ctr,\n",
    "                df[df.exp_group == 2].ctr,\n",
    "                equal_var=False)"
   ]
  },
  {
   "cell_type": "markdown",
   "id": "03ef41c9-b0a7-44b7-b839-3895e745ca99",
   "metadata": {},
   "source": [
    "По результату t теста p value слишком высокий, у нас нет основания принять гипотезу о наличии статистически значимого различия."
   ]
  },
  {
   "cell_type": "code",
   "execution_count": 6,
   "id": "88168e23-92bb-44e3-9376-9b558ab4c76e",
   "metadata": {
    "tags": []
   },
   "outputs": [
    {
     "data": {
      "text/plain": [
       "MannwhitneyuResult(statistic=56601260.5, pvalue=6.0376484617779035e-56)"
      ]
     },
     "execution_count": 6,
     "metadata": {},
     "output_type": "execute_result"
    }
   ],
   "source": [
    "#Тест Манна-Уитни\n",
    "sts.mannwhitneyu(df[df.exp_group == 1].ctr, df[df.exp_group == 2].ctr, alternative = 'two-sided')"
   ]
  },
  {
   "cell_type": "markdown",
   "id": "ddecc37e-8010-4aae-84ba-54a16fd02794",
   "metadata": {},
   "source": [
    "По результату теста Манна-Уитни p value очень низкий, мы можем принять гипотезу о наличии статистически значимого различия между группами."
   ]
  },
  {
   "cell_type": "code",
   "execution_count": 8,
   "id": "48a82d85-876d-47ac-a86d-2443413a460c",
   "metadata": {
    "tags": []
   },
   "outputs": [],
   "source": [
    "#Сглаженный CTR\n",
    "def get_smoothed_ctr(user_likes, user_views, global_ctr, alpha):\n",
    "    smoothed_ctr = (user_likes + alpha * global_ctr) / (user_views + alpha)\n",
    "    return smoothed_ctr"
   ]
  },
  {
   "cell_type": "code",
   "execution_count": 9,
   "id": "f05416b2-5c4e-42a3-a5ce-0bdf29f2e9c3",
   "metadata": {},
   "outputs": [],
   "source": [
    "global_ctr_1 = df[df.exp_group == 1].likes.sum()/df[df.exp_group == 1].views.sum()\n",
    "global_ctr_2 = df[df.exp_group == 2].likes.sum()/df[df.exp_group == 2].views.sum()"
   ]
  },
  {
   "cell_type": "code",
   "execution_count": 10,
   "id": "fe0c5a95-f21b-4531-8f40-3a710b899728",
   "metadata": {},
   "outputs": [],
   "source": [
    "smoothed_ctr_1 = df[df.exp_group == 1].apply(lambda x: get_smoothed_ctr(x['likes'], x['views'], global_ctr_1, 5), axis=1)\n",
    "smoothed_ctr_2 = df[df.exp_group == 2].apply(lambda x: get_smoothed_ctr(x['likes'], x['views'], global_ctr_2, 5), axis=1)"
   ]
  },
  {
   "cell_type": "code",
   "execution_count": 11,
   "id": "85648f6e-6917-414a-aa82-217952b0897b",
   "metadata": {},
   "outputs": [
    {
     "data": {
      "text/plain": [
       "Ttest_indResult(statistic=2.2841320431616983, pvalue=0.0223769815558559)"
      ]
     },
     "execution_count": 11,
     "metadata": {},
     "output_type": "execute_result"
    }
   ],
   "source": [
    "sts.ttest_ind(smoothed_ctr_1, smoothed_ctr_2, equal_var=False)"
   ]
  },
  {
   "cell_type": "markdown",
   "id": "e2f1fe8b-8055-4deb-bcd8-fd2171fed358",
   "metadata": {},
   "source": [
    "На сглаженном CTR t тест показывает статистически значимые различия между группами."
   ]
  },
  {
   "cell_type": "code",
   "execution_count": null,
   "id": "2bb91578-8d58-446b-a864-39f4f55ff53f",
   "metadata": {},
   "outputs": [],
   "source": [
    "#Пуассоновский бутстреп"
   ]
  },
  {
   "cell_type": "code",
   "execution_count": 12,
   "id": "24fbf855-2416-40c7-be80-747ceaabf696",
   "metadata": {},
   "outputs": [],
   "source": [
    "def bootstrap(likes1, views1, likes2, views2, n_bootstrap=2000):\n",
    "\n",
    "    poisson_bootstraps1 = sts.poisson(1).rvs(\n",
    "        (n_bootstrap, len(likes1))).astype(np.int64)\n",
    "\n",
    "    poisson_bootstraps2 = sts.poisson(1).rvs(\n",
    "            (n_bootstrap, len(likes2))).astype(np.int64)\n",
    "    \n",
    "    globalCTR1 = (poisson_bootstraps1*likes1).sum(axis=1)/(poisson_bootstraps1*views1).sum(axis=1)\n",
    "    \n",
    "    globalCTR2 = (poisson_bootstraps2*likes2).sum(axis=1)/(poisson_bootstraps2*views2).sum(axis=1)\n",
    "\n",
    "    return globalCTR1, globalCTR2"
   ]
  },
  {
   "cell_type": "code",
   "execution_count": 13,
   "id": "b16aae5c-468d-462c-a516-faa7544d8ceb",
   "metadata": {},
   "outputs": [],
   "source": [
    "likes1 = df[df.exp_group == 1].likes.to_numpy()\n",
    "views1 = df[df.exp_group == 1].views.to_numpy()\n",
    "likes2 = df[df.exp_group == 2].likes.to_numpy()\n",
    "views2 = df[df.exp_group == 2].views.to_numpy()"
   ]
  },
  {
   "cell_type": "code",
   "execution_count": 17,
   "id": "448db56c-64db-44bd-90b9-92fc6d8f84da",
   "metadata": {},
   "outputs": [],
   "source": [
    "ctr1, ctr2 = bootstrap(likes1, views1, likes2, views2)"
   ]
  },
  {
   "cell_type": "code",
   "execution_count": 19,
   "id": "3cbcf8eb-fd44-407f-b330-66d33a08fbde",
   "metadata": {},
   "outputs": [
    {
     "data": {
      "text/plain": [
       "<AxesSubplot:ylabel='Count'>"
      ]
     },
     "execution_count": 19,
     "metadata": {},
     "output_type": "execute_result"
    },
    {
     "data": {
      "image/png": "[encoded data removed]",
      "text/plain": [
       "<Figure size 432x288 with 1 Axes>"
      ]
     },
     "metadata": {
      "needs_background": "light"
     },
     "output_type": "display_data"
    }
   ],
   "source": [
    "sns.histplot(ctr1, color='red')\n",
    "sns.histplot(ctr2,color='blue')"
   ]
  },
  {
   "cell_type": "code",
   "execution_count": 16,
   "id": "b3223213-ed67-4df0-8656-bc6e3523e7df",
   "metadata": {},
   "outputs": [
    {
     "data": {
      "text/plain": [
       "<AxesSubplot:ylabel='Count'>"
      ]
     },
     "execution_count": 16,
     "metadata": {},
     "output_type": "execute_result"
    },
    {
     "data": {
      "image/png": "[encoded data removed]",
      "text/plain": [
       "<Figure size 432x288 with 1 Axes>"
      ]
     },
     "metadata": {
      "needs_background": "light"
     },
     "output_type": "display_data"
    }
   ],
   "source": [
    "sns.histplot(ctr2-ctr1)"
   ]
  },
  {
   "cell_type": "markdown",
   "id": "a3fd5fcc-d545-4dab-9904-0ab77295815e",
   "metadata": {},
   "source": [
    "По результатам бутстрепа можно увидеть, что распределения CTR не пересекаются.\n",
    "График распределения разницы не включает 0, это также позволяет сделать вывод о наличии различий между группами.\n",
    "Однако все значения на графике разницы распределений отрицательные, а значения распреления CTR первой группы выше, чем у второй.\n",
    "Это говорит о том, что результаты экспериментальной группы хуже,чем у контрольной. Таким образом, можно предположить, что новый алгоритм рекомендаций привел к ухудшению показателя CTR."
   ]
  },
  {
   "cell_type": "code",
   "execution_count": 23,
   "id": "0793d405-9a49-4133-b02c-929518b2cf4e",
   "metadata": {},
   "outputs": [],
   "source": [
    "#Бакетное преобразование\n",
    "q_2 = \"\"\"\n",
    "SELECT exp_group, bucket,\n",
    "    sum(likes)/sum(views) as bucket_ctr\n",
    "FROM (SELECT exp_group, \n",
    "        xxHash64(user_id)%50 as bucket,\n",
    "        user_id,\n",
    "        sum(action = 'like') as likes,\n",
    "        sum(action = 'view') as views,\n",
    "        likes/views as ctr\n",
    "    FROM simulator.feed_actions \n",
    "    WHERE toDate(time) between '2022-05-24' and '2022-05-30'\n",
    "        and exp_group in (1,2)\n",
    "    GROUP BY exp_group, bucket, user_id)\n",
    "GROUP BY exp_group, bucket\n",
    "\"\"\"\n",
    "\n",
    "df_2 = pandahouse.read_clickhouse(q_2, connection=connection)"
   ]
  },
  {
   "cell_type": "code",
   "execution_count": 24,
   "id": "99c9a8b9-a5f1-4198-a3ee-26d57e000b24",
   "metadata": {},
   "outputs": [
    {
     "data": {
      "text/plain": [
       "<AxesSubplot:xlabel='bucket_ctr', ylabel='Count'>"
      ]
     },
     "execution_count": 24,
     "metadata": {},
     "output_type": "execute_result"
    },
    {
     "data": {
      "image/png": "[encoded data removed]",
      "text/plain": [
       "<Figure size 432x288 with 1 Axes>"
      ]
     },
     "metadata": {
      "needs_background": "light"
     },
     "output_type": "display_data"
    }
   ],
   "source": [
    "sns.histplot(df_2[df_2.exp_group == 1].bucket_ctr)"
   ]
  },
  {
   "cell_type": "code",
   "execution_count": 25,
   "id": "455d5edc-2294-45f7-b54a-6a762abc906e",
   "metadata": {},
   "outputs": [
    {
     "data": {
      "text/plain": [
       "<AxesSubplot:xlabel='bucket_ctr', ylabel='Count'>"
      ]
     },
     "execution_count": 25,
     "metadata": {},
     "output_type": "execute_result"
    },
    {
     "data": {
      "image/png": "[encoded data removed]",
      "text/plain": [
       "<Figure size 432x288 with 1 Axes>"
      ]
     },
     "metadata": {
      "needs_background": "light"
     },
     "output_type": "display_data"
    }
   ],
   "source": [
    "sns.histplot(df_2[df_2.exp_group == 2].bucket_ctr)"
   ]
  },
  {
   "cell_type": "code",
   "execution_count": 26,
   "id": "fb34f118-eac3-47a3-88bf-482304d01860",
   "metadata": {},
   "outputs": [
    {
     "data": {
      "text/plain": [
       "Ttest_indResult(statistic=5.668234732053979, pvalue=3.4455951649945907e-07)"
      ]
     },
     "execution_count": 26,
     "metadata": {},
     "output_type": "execute_result"
    }
   ],
   "source": [
    "sts.ttest_ind(df_2[df_2.exp_group == 1].bucket_ctr, df_2[df_2.exp_group == 2].bucket_ctr, equal_var = False)"
   ]
  },
  {
   "cell_type": "code",
   "execution_count": 27,
   "id": "97ef5031-a4f3-49bb-926b-df7ce9e0fab2",
   "metadata": {},
   "outputs": [
    {
     "data": {
      "text/plain": [
       "MannwhitneyuResult(statistic=1995.0, pvalue=2.859963936492646e-07)"
      ]
     },
     "execution_count": 27,
     "metadata": {},
     "output_type": "execute_result"
    }
   ],
   "source": [
    "sts.mannwhitneyu(df_2[df_2.exp_group == 1].bucket_ctr, df_2[df_2.exp_group == 2].bucket_ctr, alternative = 'two-sided')"
   ]
  },
  {
   "cell_type": "markdown",
   "id": "c2c4ddc3-2d8a-4b42-91ed-a947c9701cb0",
   "metadata": {},
   "source": [
    "Как t-тест, так и тест Манна-Уитни поверх бакетного преобразования показали статистически значимые различия между группами."
   ]
  },
  {
   "cell_type": "markdown",
   "id": "06dbec98-e2dd-4113-bc26-d492b4547985",
   "metadata": {},
   "source": [
    "ВЫВОД:\n",
    "\n",
    "1)Все тесты за исключением t-теста показали статистически значимые различия между группами. Можно предположить,что t-тест отработал некорректно, так как в обeих группах есть выбросы, распределение ctr второй группы - бимодальное, с большими по модулю отклонениями. Также не соблюдается условие гомогенности дисперсий внутри групп.\n",
    "\n",
    "2)Бутстреп показал, что ctr во второй группе ниже,чем в контрольной, что противоречит гипотезе о том, что новый алгоритм приведет к увеличению метрики. Возможно, это связано c тем, что тест длился неделю, и в случае дольшей продолжительности результаты были бы иными. Также есть вероятность, что новый алгоритм рекомендаций действительно работает хуже (например, в связи с некорректными результатами предварительных исследований или отсутствием этих исследований).\n",
    "\n",
    "3)Раскатывать новый алгоритм на основании данного теста не стоит, так как основная гипотеза не подтвердилась, а тесты показывают, что в экспериментальной группе целевая метрика ниже. Однако из-за бимодальности распределения второй группы, мы можем увидеть на графике, что есть часть пользователей, для которых ctr стал выше. Возможно имеет смысл провести доп.тесты для исследования этой группы.  "
   ]
  }
 ],
 "metadata": {
  "kernelspec": {
   "display_name": "Python 3 (ipykernel)",
   "language": "python",
   "name": "python3"
  },
  "language_info": {
   "codemirror_mode": {
    "name": "ipython",
    "version": 3
   },
   "file_extension": ".py",
   "mimetype": "text/x-python",
   "name": "python",
   "nbconvert_exporter": "python",
   "pygments_lexer": "ipython3",
   "version": "3.8.10"
  }
 },
 "nbformat": 4,
 "nbformat_minor": 5
}
